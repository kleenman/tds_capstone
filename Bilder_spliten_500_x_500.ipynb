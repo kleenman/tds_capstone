{
  "nbformat": 4,
  "nbformat_minor": 0,
  "metadata": {
    "colab": {
      "provenance": [],
      "include_colab_link": true
    },
    "kernelspec": {
      "name": "python3",
      "display_name": "Python 3"
    },
    "language_info": {
      "name": "python"
    }
  },
  "cells": [
    {
      "cell_type": "markdown",
      "metadata": {
        "id": "view-in-github",
        "colab_type": "text"
      },
      "source": [
        "<a href=\"https://colab.research.google.com/github/kleenman/tds_capstone/blob/main/Bilder_spliten_500_x_500.ipynb\" target=\"_parent\"><img src=\"https://colab.research.google.com/assets/colab-badge.svg\" alt=\"Open In Colab\"/></a>"
      ]
    },
    {
      "cell_type": "markdown",
      "source": [
        "\n",
        "##Description\n",
        "This script automates the process of splitting image and corresponding mask files into smaller segments for detailed analysis. It reads images (.jpg) and masks (.npy) from specified directories, divides them into predefined segments (top left, top right, bottom left, bottom right), and saves the segments into new directories. This functionality is crucial for preparing the donwloaded images for our model.\n",
        "\n",
        "##Configuration\n",
        "Before running the script, ensure to adjust the following:\n",
        "\n",
        "Path Adjustments:\n",
        "*   original_image_path: Path to the directory containing original images.\n",
        "*   new_img_path: Path to the directory where split images will be saved.\n",
        "*   npy_file_path: Path to the directory containing old masks in .npy format.\n",
        "*   new_mask_path: Path to the directory where split masks will be saved.\n",
        "\n",
        "\n"
      ],
      "metadata": {
        "id": "D8tMTRfiU3Sl"
      }
    },
    {
      "cell_type": "code",
      "execution_count": null,
      "metadata": {
        "colab": {
          "base_uri": "https://localhost:8080/"
        },
        "id": "yJi_W62Hbrsr",
        "outputId": "a0e95e6d-f2a9-40c1-a6cb-d3be816abe82"
      },
      "outputs": [
        {
          "output_type": "stream",
          "name": "stdout",
          "text": [
            "Drive already mounted at /content/drive; to attempt to forcibly remount, call drive.mount(\"/content/drive\", force_remount=True).\n"
          ]
        }
      ],
      "source": [
        "from google.colab import drive\n",
        "drive.mount('/content/drive')\n",
        "\n",
        "from PIL import Image\n",
        "import os\n",
        "import numpy as np\n",
        "import matplotlib.pyplot as plt"
      ]
    },
    {
      "cell_type": "code",
      "source": [
        "# Pfad zum Bild in Google Drive\n",
        "original_image_path = # Ordner mit den alten bildern\n",
        "new_îmg_path = # Pfad zum ordner mit geteilten bildern\n",
        "os.makedirs(new_folder_path, exist_ok=True)"
      ],
      "metadata": {
        "id": "0MPIWNmK9qCu"
      },
      "execution_count": null,
      "outputs": []
    },
    {
      "cell_type": "code",
      "source": [
        "# Bezeichnungen für die Positionen\n",
        "positions = ['OL', 'OR', 'UL', 'UR']\n",
        "\n",
        "\n",
        "for img in os.listdir(original_image_path):\n",
        "    if img.endswith('.jpg'):\n",
        "        original_image = Image.open(f'{original_image_path}/{img}')\n",
        "        # Basisname des Originalbildes C:\\Users\\pedro\\Documents\\Uni\\Master\\TDS\\Capstone\\park_detection\\munich_data ohne Erweiterung\n",
        "        base_name = os.path.splitext(os.path.basename(img))[0]\n",
        "        # Berechnung der Größe für jeden Ausschnitt\n",
        "        width, height = original_image.size\n",
        "        split_width = width // 2\n",
        "        split_height = height // 2\n",
        "        # Bild in vier Teile teilen und speichern\n",
        "        for i in range(2):\n",
        "            for j in range(2):\n",
        "                # Koordinaten des zugeschnittenen Bildes definieren\n",
        "                left = i * split_width\n",
        "                top = j * split_height\n",
        "                right = left + split_width\n",
        "                bottom = top + split_height\n",
        "                # Bild zuschneiden\n",
        "                cropped_image = original_image.crop((left, top, right, bottom))\n",
        "                # Bild speichern mit entsprechendem Namen im neuen Ordner\n",
        "                position_index = 2 * j + i  # Bestimmt die Position\n",
        "                cropped_image.save(f'{new_img_path}/{base_name}_{positions[position_index]}.jpg')\n"
      ],
      "metadata": {
        "id": "4lcrQgt59u9j"
      },
      "execution_count": null,
      "outputs": []
    },
    {
      "cell_type": "code",
      "source": [
        "npy_file_path = # pfad zu den alten masken"
      ],
      "metadata": {
        "id": "FzJ6wxLu9yFl"
      },
      "execution_count": null,
      "outputs": []
    },
    {
      "cell_type": "code",
      "source": [
        "new_mask_path = # pfad zu den neuen masken\n",
        "os.makedirs(new_folder_path, exist_ok=True)\n",
        "\n",
        "for f in os.listdir(npy_file_path):\n",
        "    if f.endswith('.npy'):\n",
        "        base_name = os.path.splitext(os.path.basename(f))[0]\n",
        "        # Laden der Spatial-Daten\n",
        "        spatial_data = np.load(f'{npy_file_path}/{base_name}.npy')\n",
        "        # Überprüfen, ob die Größe 1000x1000 ist\n",
        "        if spatial_data.shape == (1000, 1000):\n",
        "            # Teilen der Daten\n",
        "            for i in range(2):\n",
        "                for j in range(2):\n",
        "                    # Koordinaten des zugeschnittenen Arrays\n",
        "                    x_start, x_end = i * 500, (i + 1) * 500\n",
        "                    y_start, y_end = j * 500, (j + 1) * 500\n",
        "                    # Ausschneiden des Arrays\n",
        "                    cropped_data = spatial_data[x_start:x_end, y_start:y_end]\n",
        "                    # Speichern des zugeschnittenen Arrays\n",
        "                    position = ['OL', 'UL', 'OR', 'UR'][2 * j + i]\n",
        "                    np.save(f'{new_mask_path}/{base_name}_{position}.npy', cropped_data)\n",
        "        else:\n",
        "            print(\"Die Größe der Spatial-Daten entspricht nicht den erwarteten 1000x1000 Pixel.\")\n"
      ],
      "metadata": {
        "id": "2V3_r_Ou95hG"
      },
      "execution_count": null,
      "outputs": []
    },
    {
      "cell_type": "code",
      "source": [
        "img_name = os.listdir(new_îmg_path)[568]\n",
        "img_pth = f'{new_îmg_path}\\\\{img_name}'\n",
        "mask_name = img_name.replace('jpg', 'npy')\n",
        "mask_pth = f'{new_mask_path}\\\\{mask_name}'\n",
        "img_name"
      ],
      "metadata": {
        "id": "4luaUJd--EhU"
      },
      "execution_count": null,
      "outputs": []
    },
    {
      "cell_type": "code",
      "source": [
        "image = np.array(Image.open(img_pth))\n",
        "mask = np.load(mask_pth)\n",
        "plt.imshow(image)\n",
        "plt.imshow(mask, cmap='Greens', alpha=0.5)  # Change color map to 'Greens'\n",
        "plt.show()"
      ],
      "metadata": {
        "id": "Gs_vu9zD-IJD"
      },
      "execution_count": null,
      "outputs": []
    }
  ]
}