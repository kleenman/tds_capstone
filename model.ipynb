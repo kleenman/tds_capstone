{
  "nbformat": 4,
  "nbformat_minor": 0,
  "metadata": {
    "colab": {
      "provenance": [],
      "include_colab_link": true
    },
    "kernelspec": {
      "name": "python3",
      "display_name": "Python 3"
    },
    "language_info": {
      "name": "python"
    }
  },
  "cells": [
    {
      "cell_type": "markdown",
      "metadata": {
        "id": "view-in-github",
        "colab_type": "text"
      },
      "source": [
        "<a href=\"https://colab.research.google.com/github/kleenman/tds_capstone/blob/emma/model.ipynb\" target=\"_parent\"><img src=\"https://colab.research.google.com/assets/colab-badge.svg\" alt=\"Open In Colab\"/></a>"
      ]
    },
    {
      "cell_type": "code",
      "execution_count": 3,
      "metadata": {
        "id": "DukJivSaC1WM",
        "outputId": "3b8edd37-bde0-4e58-e17f-b116b48da62a",
        "colab": {
          "base_uri": "https://localhost:8080/"
        }
      },
      "outputs": [
        {
          "output_type": "stream",
          "name": "stdout",
          "text": [
            "Requirement already satisfied: geopandas in /usr/local/lib/python3.10/dist-packages (0.13.2)\n",
            "Requirement already satisfied: fiona>=1.8.19 in /usr/local/lib/python3.10/dist-packages (from geopandas) (1.9.5)\n",
            "Requirement already satisfied: packaging in /usr/local/lib/python3.10/dist-packages (from geopandas) (23.2)\n",
            "Requirement already satisfied: pandas>=1.1.0 in /usr/local/lib/python3.10/dist-packages (from geopandas) (1.5.3)\n",
            "Requirement already satisfied: pyproj>=3.0.1 in /usr/local/lib/python3.10/dist-packages (from geopandas) (3.6.1)\n",
            "Requirement already satisfied: shapely>=1.7.1 in /usr/local/lib/python3.10/dist-packages (from geopandas) (2.0.2)\n",
            "Requirement already satisfied: attrs>=19.2.0 in /usr/local/lib/python3.10/dist-packages (from fiona>=1.8.19->geopandas) (23.1.0)\n",
            "Requirement already satisfied: certifi in /usr/local/lib/python3.10/dist-packages (from fiona>=1.8.19->geopandas) (2023.11.17)\n",
            "Requirement already satisfied: click~=8.0 in /usr/local/lib/python3.10/dist-packages (from fiona>=1.8.19->geopandas) (8.1.7)\n",
            "Requirement already satisfied: click-plugins>=1.0 in /usr/local/lib/python3.10/dist-packages (from fiona>=1.8.19->geopandas) (1.1.1)\n",
            "Requirement already satisfied: cligj>=0.5 in /usr/local/lib/python3.10/dist-packages (from fiona>=1.8.19->geopandas) (0.7.2)\n",
            "Requirement already satisfied: six in /usr/local/lib/python3.10/dist-packages (from fiona>=1.8.19->geopandas) (1.16.0)\n",
            "Requirement already satisfied: setuptools in /usr/local/lib/python3.10/dist-packages (from fiona>=1.8.19->geopandas) (67.7.2)\n",
            "Requirement already satisfied: python-dateutil>=2.8.1 in /usr/local/lib/python3.10/dist-packages (from pandas>=1.1.0->geopandas) (2.8.2)\n",
            "Requirement already satisfied: pytz>=2020.1 in /usr/local/lib/python3.10/dist-packages (from pandas>=1.1.0->geopandas) (2023.3.post1)\n",
            "Requirement already satisfied: numpy>=1.21.0 in /usr/local/lib/python3.10/dist-packages (from pandas>=1.1.0->geopandas) (1.23.5)\n",
            "/bin/bash: line 1: conda: command not found\n"
          ]
        }
      ],
      "source": [
        "import pandas as pd\n",
        "!pip install geopandas\n",
        "!conda install geopandas\n"
      ]
    },
    {
      "cell_type": "code",
      "source": [
        "import geopandas as gpd\n",
        "from google.colab import drive\n",
        "drive.mount('/content/drive')\n"
      ],
      "metadata": {
        "id": "NjEb4N6iKJgW",
        "outputId": "fe4875ee-4003-419f-b5ac-19cf7d6f00ab",
        "colab": {
          "base_uri": "https://localhost:8080/"
        }
      },
      "execution_count": 5,
      "outputs": [
        {
          "output_type": "stream",
          "name": "stdout",
          "text": [
            "Mounted at /content/drive\n"
          ]
        }
      ]
    },
    {
      "cell_type": "code",
      "source": [
        "import geopandas as gpd\n",
        "\n",
        "import geopandas as gpd\n",
        "\n",
        "# Correct path to the .gpkg file\n",
        "file_path = '/content/drive/My Drive/canvec_240105_439447.gpkg'\n",
        "gdf = gpd.read_file(file_path)\n",
        "\n",
        "# Display the first few rows of the GeoDataFrame\n",
        "gdf.head\n"
      ],
      "metadata": {
        "id": "_NYXSzpYKn5x",
        "outputId": "882da624-fd88-47c5-bff3-3ec9f678c4e4",
        "colab": {
          "base_uri": "https://localhost:8080/"
        }
      },
      "execution_count": 8,
      "outputs": [
        {
          "output_type": "execute_result",
          "data": {
            "text/plain": [
              "<bound method NDFrame.head of                             feature_id md_temporal_extent_date_min  \\\n",
              "0     0947b4135964427089ffdf2cb60af7f1                        1985   \n",
              "1     f74d4cb66c32468ab8013f6b427e48ec                        1985   \n",
              "2     049cbc3ac03d48e7a57775ed12adf5f8                        1985   \n",
              "3     9d075286e29e4346b646275953757b22                        1985   \n",
              "4     4b77369aab9a4556a9235370f5923093                        1985   \n",
              "...                                ...                         ...   \n",
              "2487  c1b00fcefad54666966491bd0dae3c37                        1985   \n",
              "2488  c1b00fcefad54666966491bd0dae3c37                        1985   \n",
              "2489  c1b00fcefad54666966491bd0dae3c37                        1985   \n",
              "2490  c1b00fcefad54666966491bd0dae3c37                        1985   \n",
              "2491  c1b00fcefad54666966491bd0dae3c37                        1985   \n",
              "\n",
              "     md_temporal_extent_date_max  md_horiz_position_accuracy_min  \\\n",
              "0                           1988                           150.0   \n",
              "1                           1985                           150.0   \n",
              "2                           1985                           150.0   \n",
              "3                           1985                           150.0   \n",
              "4                           1985                           150.0   \n",
              "...                          ...                             ...   \n",
              "2487                        1988                           150.0   \n",
              "2488                        1988                           150.0   \n",
              "2489                        1988                           150.0   \n",
              "2490                        1988                           150.0   \n",
              "2491                        1988                           150.0   \n",
              "\n",
              "      md_horiz_position_accuracy_max  md_vert_position_accuracy_min  \\\n",
              "0                              150.0                           25.0   \n",
              "1                              150.0                           25.0   \n",
              "2                              150.0                           25.0   \n",
              "3                              150.0                           25.0   \n",
              "4                              150.0                           25.0   \n",
              "...                              ...                            ...   \n",
              "2487                           150.0                           25.0   \n",
              "2488                           150.0                           25.0   \n",
              "2489                           150.0                           25.0   \n",
              "2490                           150.0                           25.0   \n",
              "2491                           150.0                           25.0   \n",
              "\n",
              "      md_vert_position_accuracy_max  contour_generation  contour_descriptor  \\\n",
              "0                              25.0                 732                 735   \n",
              "1                              25.0                 733                 735   \n",
              "2                              25.0                 733                 735   \n",
              "3                              25.0                 733                 735   \n",
              "4                              25.0                 733                 735   \n",
              "...                             ...                 ...                 ...   \n",
              "2487                           25.0                 732                 735   \n",
              "2488                           25.0                 732                 735   \n",
              "2489                           25.0                 732                 735   \n",
              "2490                           25.0                 732                 735   \n",
              "2491                           25.0                 732                 735   \n",
              "\n",
              "      elevation  elevation_unit  elevation_unit_symbol  map_selection  \\\n",
              "0           280             396                    370             71   \n",
              "1           600             396                    370             71   \n",
              "2           640             396                    370             71   \n",
              "3           720             396                    370             71   \n",
              "4           520             396                    370             71   \n",
              "...         ...             ...                    ...            ...   \n",
              "2487        240             396                    370             71   \n",
              "2488        240             396                    370             71   \n",
              "2489        240             396                    370             71   \n",
              "2490        240             396                    370             71   \n",
              "2491        240             396                    370             71   \n",
              "\n",
              "                                               geometry  \n",
              "0     LINESTRING (-72.43617 45.18218, -72.43772 45.1...  \n",
              "1     LINESTRING (-71.91970 45.01106, -71.92077 45.0...  \n",
              "2     LINESTRING (-71.92144 45.01252, -71.92230 45.0...  \n",
              "3     LINESTRING (-71.92498 45.01643, -71.92580 45.0...  \n",
              "4     LINESTRING (-71.93130 45.00814, -71.93220 45.0...  \n",
              "...                                                 ...  \n",
              "2487  LINESTRING (-72.70000 45.03579, -72.69998 45.0...  \n",
              "2488  LINESTRING (-72.70000 45.05905, -72.69923 45.0...  \n",
              "2489  LINESTRING (-72.70000 45.10472, -72.69925 45.1...  \n",
              "2490  LINESTRING (-72.70000 45.11772, -72.69977 45.1...  \n",
              "2491  LINESTRING (-72.70000 45.12797, -72.69971 45.1...  \n",
              "\n",
              "[2492 rows x 14 columns]>"
            ]
          },
          "metadata": {},
          "execution_count": 8
        }
      ]
    },
    {
      "cell_type": "code",
      "source": [
        "import requests\n",
        "import json\n",
        "import os\n",
        "\n",
        "# Base URL for the files\n",
        "base_url = 'https://www.opengeodata.nrw.de/produkte/geobasis/lusat/idop/idop_jp2_f2/'\n",
        "\n",
        "# JSON string with the data\n",
        "data = {\n",
        "  \"datasets\": [\n",
        "    {\n",
        "      \"files\": [\n",
        "        {\"name\":\"idop20rgbi_32_288_5736_1_nw_2023.jp2\", \"size\":\"51056779\", \"timestamp\":\"2023-07-05T18:01:13\"},\n",
        "        {\"name\":\"idop20rgbi_32_288_5737_1_nw_2023.jp2\", \"size\":\"49413971\", \"timestamp\":\"2023-07-05T18:02:22\"},\n",
        "        {\"name\":\"idop20rgbi_32_288_5744_1_nw_2023.jp2\", \"size\":\"49529857\", \"timestamp\":\"2023-07-05T18:03:31\"},\n",
        "        {\"name\":\"idop20rgbi_32_288_5745_1_nw_2023.jp2\", \"size\":\"52052845\", \"timestamp\":\"2023-07-05T18:04:41\"},\n",
        "        {\"name\":\"idop20rgbi_32_288_5746_1_nw_2023.jp2\", \"size\":\"52558074\", \"timestamp\":\"2023-07-05T18:05:51\"},\n",
        "        {\"name\":\"idop20rgbi_32_288_5747_1_nw_2023.jp2\", \"size\":\"47473976\", \"timestamp\":\"2023-07-05T18:07:00\"},\n",
        "        {\"name\":\"idop20rgbi_32_289_5736_1_nw_2023.jp2\", \"size\":\"50599778\", \"timestamp\":\"2023-07-05T18:08:09\"},\n",
        "        {\"name\":\"idop20rgbi_32_289_5737_1_nw_2023.jp2\", \"size\":\"51174512\", \"timestamp\":\"2023-07-05T18:09:18\"},\n",
        "        {\"name\":\"idop20rgbi_32_289_5744_1_nw_2023.jp2\", \"size\":\"48853960\", \"timestamp\":\"2023-07-05T18:10:27\"},\n",
        "        {\"name\":\"idop20rgbi_32_289_5745_1_nw_2023.jp2\", \"size\":\"50053184\", \"timestamp\":\"2023-07-05T18:11:36\"},\n",
        "        {\"name\":\"idop20rgbi_32_289_5746_1_nw_2023.jp2\", \"size\":\"47205241\", \"timestamp\":\"2023-07-05T18:12:44\"},\n",
        "        {\"name\":\"idop20rgbi_32_289_5747_1_nw_2023.jp2\", \"size\":\"46514071\", \"timestamp\":\"2023-07-05T18:13:53\"}\n",
        "      ]\n",
        "    }\n",
        "  ]\n",
        "}\n",
        "\n",
        "download_directory = 'downloaded_images'\n",
        "os.makedirs(download_directory, exist_ok=True)\n",
        "\n",
        "# Iterate over the datasets and files to download them\n",
        "for dataset in data['datasets']:\n",
        "    for file in dataset['files']:\n",
        "        # Construct the full URL\n",
        "        file_url = base_url + file['name']\n",
        "\n",
        "        # Path for the local file\n",
        "        local_file_path = os.path.join(download_directory, file['name'])\n",
        "\n",
        "        # Stream the file content and write it to the local file\n",
        "        with requests.get(file_url, stream=True) as r:\n",
        "            r.raise_for_status()\n",
        "            with open(local_file_path, 'wb') as f:\n",
        "                for chunk in r.iter_content(chunk_size=8192):\n",
        "                    f.write(chunk)\n",
        "\n",
        "        print(f\"Downloaded {file['name']}\")\n",
        "\n",
        "print('All files have been downloaded.')\n",
        "\n",
        "\n",
        ""
      ],
      "metadata": {
        "id": "MZ9vMrMoMpiJ",
        "outputId": "f6e872b4-3fca-4d47-f1bc-15ff7c55b516",
        "colab": {
          "base_uri": "https://localhost:8080/"
        }
      },
      "execution_count": 4,
      "outputs": [
        {
          "output_type": "stream",
          "name": "stdout",
          "text": [
            "Downloaded idop20rgbi_32_288_5736_1_nw_2023.jp2\n",
            "Downloaded idop20rgbi_32_288_5737_1_nw_2023.jp2\n",
            "Downloaded idop20rgbi_32_288_5744_1_nw_2023.jp2\n",
            "Downloaded idop20rgbi_32_288_5745_1_nw_2023.jp2\n",
            "Downloaded idop20rgbi_32_288_5746_1_nw_2023.jp2\n",
            "Downloaded idop20rgbi_32_288_5747_1_nw_2023.jp2\n",
            "Downloaded idop20rgbi_32_289_5736_1_nw_2023.jp2\n",
            "Downloaded idop20rgbi_32_289_5737_1_nw_2023.jp2\n",
            "Downloaded idop20rgbi_32_289_5744_1_nw_2023.jp2\n",
            "Downloaded idop20rgbi_32_289_5745_1_nw_2023.jp2\n",
            "Downloaded idop20rgbi_32_289_5746_1_nw_2023.jp2\n",
            "Downloaded idop20rgbi_32_289_5747_1_nw_2023.jp2\n",
            "All files have been downloaded.\n"
          ]
        }
      ]
    },
    {
      "cell_type": "code",
      "source": [
        "from PIL import Image\n",
        "\n",
        "def rescale_image(filename, target_width=1000, target_height=1000):\n",
        "    try:\n",
        "        # Open the downloaded image using Pillow\n",
        "        img = Image.open(filename)\n",
        "\n",
        "        # Resize the image to the target dimensions while preserving the aspect ratio\n",
        "        img.thumbnail((target_width, target_height))\n",
        "\n",
        "        # Save the resized image\n",
        "        img.save(filename)\n",
        "        print(f\"Image {filename} resized successfully!\")\n",
        "        return False\n",
        "    except Exception as e:\n",
        "        print(f\"Error while resizing image {filename}: {e}\")\n",
        "        return True\n"
      ],
      "metadata": {
        "id": "me1srn9lRUX1"
      },
      "execution_count": 5,
      "outputs": []
    },
    {
      "cell_type": "code",
      "source": [
        "!pip install Pillow\n"
      ],
      "metadata": {
        "id": "F0HdPkr0RY22",
        "outputId": "9c8542f2-8ebc-47ad-f689-392df238cd45",
        "colab": {
          "base_uri": "https://localhost:8080/"
        }
      },
      "execution_count": 6,
      "outputs": [
        {
          "output_type": "stream",
          "name": "stdout",
          "text": [
            "Requirement already satisfied: Pillow in /usr/local/lib/python3.10/dist-packages (9.4.0)\n"
          ]
        }
      ]
    },
    {
      "cell_type": "code",
      "source": [
        "from PIL import Image\n",
        "\n",
        "def rescale_image(filename, target_width=1000, target_height=1000):\n",
        "    try:\n",
        "        # Open the downloaded image using Pillow\n",
        "        img = Image.open(filename)\n",
        "\n",
        "        # Resize the image to the target dimensions while preserving the aspect ratio\n",
        "        img.thumbnail((target_width, target_height))\n",
        "\n",
        "        # Save the resized image\n",
        "        img.save(filename)\n",
        "        print(f\"Image {filename} resized successfully!\")\n",
        "        return False\n",
        "    except Exception as e:\n",
        "        print(f\"Error while resizing image {filename}: {e}\")\n",
        "        return True\n"
      ],
      "metadata": {
        "id": "gVLUvOgSUKe7"
      },
      "execution_count": 7,
      "outputs": []
    },
    {
      "cell_type": "code",
      "source": [
        "# Assuming 'data' is your dictionary from the JSON code\n",
        "for dataset in data['datasets']:\n",
        "    for file in dataset['files']:\n",
        "        # The path to the downloaded image file\n",
        "        local_file_path = os.path.join('downloaded_images', file['name'])\n",
        "\n",
        "        # Call the rescale function\n",
        "        error_occurred = rescale_image(local_file_path)\n",
        "        if error_occurred:\n",
        "            print(f\"Failed to process {file['name']}\")\n"
      ],
      "metadata": {
        "id": "2xhP_UX-URdS",
        "outputId": "c0656a5f-21fe-4cd6-8138-a26704fe6f6f",
        "colab": {
          "base_uri": "https://localhost:8080/"
        }
      },
      "execution_count": 8,
      "outputs": [
        {
          "output_type": "stream",
          "name": "stdout",
          "text": [
            "Image downloaded_images/idop20rgbi_32_288_5736_1_nw_2023.jp2 resized successfully!\n",
            "Image downloaded_images/idop20rgbi_32_288_5737_1_nw_2023.jp2 resized successfully!\n",
            "Image downloaded_images/idop20rgbi_32_288_5744_1_nw_2023.jp2 resized successfully!\n",
            "Image downloaded_images/idop20rgbi_32_288_5745_1_nw_2023.jp2 resized successfully!\n",
            "Image downloaded_images/idop20rgbi_32_288_5746_1_nw_2023.jp2 resized successfully!\n",
            "Image downloaded_images/idop20rgbi_32_288_5747_1_nw_2023.jp2 resized successfully!\n",
            "Image downloaded_images/idop20rgbi_32_289_5736_1_nw_2023.jp2 resized successfully!\n",
            "Image downloaded_images/idop20rgbi_32_289_5737_1_nw_2023.jp2 resized successfully!\n",
            "Image downloaded_images/idop20rgbi_32_289_5744_1_nw_2023.jp2 resized successfully!\n",
            "Image downloaded_images/idop20rgbi_32_289_5745_1_nw_2023.jp2 resized successfully!\n",
            "Image downloaded_images/idop20rgbi_32_289_5746_1_nw_2023.jp2 resized successfully!\n",
            "Image downloaded_images/idop20rgbi_32_289_5747_1_nw_2023.jp2 resized successfully!\n"
          ]
        }
      ]
    },
    {
      "cell_type": "code",
      "source": [
        "!pip install Pillow exifread\n"
      ],
      "metadata": {
        "id": "zNu5KY43Wzux",
        "outputId": "f55c6024-2998-4b53-d58c-c09163498af2",
        "colab": {
          "base_uri": "https://localhost:8080/"
        }
      },
      "execution_count": 9,
      "outputs": [
        {
          "output_type": "stream",
          "name": "stdout",
          "text": [
            "Requirement already satisfied: Pillow in /usr/local/lib/python3.10/dist-packages (9.4.0)\n",
            "Collecting exifread\n",
            "  Downloading ExifRead-3.0.0-py3-none-any.whl (40 kB)\n",
            "\u001b[2K     \u001b[90m━━━━━━━━━━━━━━━━━━━━━━━━━━━━━━━━━━━━━━━━\u001b[0m \u001b[32m40.4/40.4 kB\u001b[0m \u001b[31m1.2 MB/s\u001b[0m eta \u001b[36m0:00:00\u001b[0m\n",
            "\u001b[?25hInstalling collected packages: exifread\n",
            "Successfully installed exifread-3.0.0\n"
          ]
        }
      ]
    },
    {
      "cell_type": "code",
      "source": [
        "from PIL import Image\n",
        "import exifread\n",
        "\n",
        "def get_coordinates(image_path):\n",
        "    # Open image for reading in binary mode\n",
        "    with open(image_path, 'rb') as image_file:\n",
        "        # Extract EXIF data\n",
        "        tags = exifread.process_file(image_file)\n",
        "\n",
        "        # Check if the image has GPS data\n",
        "        if 'GPS GPSLatitude' in tags and 'GPS GPSLongitude' in tags:\n",
        "            lat = tags['GPS GPSLatitude']\n",
        "            lon = tags['GPS GPSLongitude']\n",
        "\n",
        "            # Convert coordinates to degrees\n",
        "            lat_deg = convert_to_degrees(lat)\n",
        "            lon_deg = convert_to_degrees(lon)\n",
        "\n",
        "            # Determine if the latitude and longitude are South and West\n",
        "            lat_ref = tags.get('GPS GPSLatitudeRef', 'N').values\n",
        "            lon_ref = tags.get('GPS GPSLongitudeRef', 'E').values\n",
        "\n",
        "            if lat_ref != 'N':\n",
        "                lat_deg = -lat_deg\n",
        "            if lon_ref != 'E':\n",
        "                lon_deg = -lon_deg\n",
        "\n",
        "            return lat_deg, lon_deg\n",
        "        else:\n",
        "            return None\n",
        "\n",
        "def convert_to_degrees(value):\n",
        "    # Convert coordinates from degrees, minutes, seconds to decimal degrees\n",
        "    d, m, s = value.values\n",
        "    return d.num / d.den + (m.num / m.den / 60) + (s.num / s.den / 3600)\n",
        "\n",
        "# Path to your image\n",
        "image_path = 'path/to/your/image.jpg'\n",
        "\n",
        "coordinates = get_coordinates(image_path)\n",
        "if coordinates:\n",
        "    print(f\"Latitude: {coordinates[0]}, Longitude: {coordinates[1]}\")\n",
        "else:\n",
        "    print(\"No GPS data found.\")\n"
      ],
      "metadata": {
        "id": "PjcYqOb_W8vj",
        "outputId": "3a7f82c3-eefb-4ed2-e0d7-0efb3e3ea336",
        "colab": {
          "base_uri": "https://localhost:8080/",
          "height": 367
        }
      },
      "execution_count": 10,
      "outputs": [
        {
          "output_type": "error",
          "ename": "FileNotFoundError",
          "evalue": "[Errno 2] No such file or directory: 'path/to/your/image.jpg'",
          "traceback": [
            "\u001b[0;31m---------------------------------------------------------------------------\u001b[0m",
            "\u001b[0;31mFileNotFoundError\u001b[0m                         Traceback (most recent call last)",
            "\u001b[0;32m<ipython-input-10-8ec5d4e26d71>\u001b[0m in \u001b[0;36m<cell line: 40>\u001b[0;34m()\u001b[0m\n\u001b[1;32m     38\u001b[0m \u001b[0mimage_path\u001b[0m \u001b[0;34m=\u001b[0m \u001b[0;34m'path/to/your/image.jpg'\u001b[0m\u001b[0;34m\u001b[0m\u001b[0;34m\u001b[0m\u001b[0m\n\u001b[1;32m     39\u001b[0m \u001b[0;34m\u001b[0m\u001b[0m\n\u001b[0;32m---> 40\u001b[0;31m \u001b[0mcoordinates\u001b[0m \u001b[0;34m=\u001b[0m \u001b[0mget_coordinates\u001b[0m\u001b[0;34m(\u001b[0m\u001b[0mimage_path\u001b[0m\u001b[0;34m)\u001b[0m\u001b[0;34m\u001b[0m\u001b[0;34m\u001b[0m\u001b[0m\n\u001b[0m\u001b[1;32m     41\u001b[0m \u001b[0;32mif\u001b[0m \u001b[0mcoordinates\u001b[0m\u001b[0;34m:\u001b[0m\u001b[0;34m\u001b[0m\u001b[0;34m\u001b[0m\u001b[0m\n\u001b[1;32m     42\u001b[0m     \u001b[0mprint\u001b[0m\u001b[0;34m(\u001b[0m\u001b[0;34mf\"Latitude: {coordinates[0]}, Longitude: {coordinates[1]}\"\u001b[0m\u001b[0;34m)\u001b[0m\u001b[0;34m\u001b[0m\u001b[0;34m\u001b[0m\u001b[0m\n",
            "\u001b[0;32m<ipython-input-10-8ec5d4e26d71>\u001b[0m in \u001b[0;36mget_coordinates\u001b[0;34m(image_path)\u001b[0m\n\u001b[1;32m      4\u001b[0m \u001b[0;32mdef\u001b[0m \u001b[0mget_coordinates\u001b[0m\u001b[0;34m(\u001b[0m\u001b[0mimage_path\u001b[0m\u001b[0;34m)\u001b[0m\u001b[0;34m:\u001b[0m\u001b[0;34m\u001b[0m\u001b[0;34m\u001b[0m\u001b[0m\n\u001b[1;32m      5\u001b[0m     \u001b[0;31m# Open image for reading in binary mode\u001b[0m\u001b[0;34m\u001b[0m\u001b[0;34m\u001b[0m\u001b[0m\n\u001b[0;32m----> 6\u001b[0;31m     \u001b[0;32mwith\u001b[0m \u001b[0mopen\u001b[0m\u001b[0;34m(\u001b[0m\u001b[0mimage_path\u001b[0m\u001b[0;34m,\u001b[0m \u001b[0;34m'rb'\u001b[0m\u001b[0;34m)\u001b[0m \u001b[0;32mas\u001b[0m \u001b[0mimage_file\u001b[0m\u001b[0;34m:\u001b[0m\u001b[0;34m\u001b[0m\u001b[0;34m\u001b[0m\u001b[0m\n\u001b[0m\u001b[1;32m      7\u001b[0m         \u001b[0;31m# Extract EXIF data\u001b[0m\u001b[0;34m\u001b[0m\u001b[0;34m\u001b[0m\u001b[0m\n\u001b[1;32m      8\u001b[0m         \u001b[0mtags\u001b[0m \u001b[0;34m=\u001b[0m \u001b[0mexifread\u001b[0m\u001b[0;34m.\u001b[0m\u001b[0mprocess_file\u001b[0m\u001b[0;34m(\u001b[0m\u001b[0mimage_file\u001b[0m\u001b[0;34m)\u001b[0m\u001b[0;34m\u001b[0m\u001b[0;34m\u001b[0m\u001b[0m\n",
            "\u001b[0;31mFileNotFoundError\u001b[0m: [Errno 2] No such file or directory: 'path/to/your/image.jpg'"
          ]
        }
      ]
    }
  ]
}