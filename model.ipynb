{
  "nbformat": 4,
  "nbformat_minor": 0,
  "metadata": {
    "colab": {
      "provenance": [],
      "gpuType": "T4",
      "mount_file_id": "https://github.com/kleenman/tds_capstone/blob/pedro/model.ipynb",
      "authorship_tag": "ABX9TyPC8W0WtTzZqSRJUBDK9Jf5",
      "include_colab_link": true
    },
    "kernelspec": {
      "name": "python3",
      "display_name": "Python 3"
    },
    "language_info": {
      "name": "python"
    },
    "accelerator": "GPU"
  },
  "cells": [
    {
      "cell_type": "markdown",
      "metadata": {
        "id": "view-in-github",
        "colab_type": "text"
      },
      "source": [
        "<a href=\"https://colab.research.google.com/github/kleenman/tds_capstone/blob/pedro/model.ipynb\" target=\"_parent\"><img src=\"https://colab.research.google.com/assets/colab-badge.svg\" alt=\"Open In Colab\"/></a>"
      ]
    },
    {
      "cell_type": "code",
      "source": [
        "from google.colab import drive\n",
        "drive.mount('/content/gdrive')"
      ],
      "metadata": {
        "id": "GlxiEOaQvmOV",
        "outputId": "5fca03f5-1d42-47a1-d71a-f751236d207a",
        "colab": {
          "base_uri": "https://localhost:8080/"
        }
      },
      "execution_count": 1,
      "outputs": [
        {
          "output_type": "stream",
          "name": "stdout",
          "text": [
            "Mounted at /content/gdrive\n"
          ]
        }
      ]
    },
    {
      "cell_type": "code",
      "source": [
        "import numpy as np\n",
        "import pandas as pd\n",
        "import os\n",
        "import matplotlib.pyplot as plt\n",
        "from fastai.vision.all import *"
      ],
      "metadata": {
        "id": "6S-Ca0nPs2QI"
      },
      "execution_count": 3,
      "outputs": []
    },
    {
      "cell_type": "code",
      "source": [
        "dataset_path = '/content/gdrive/MyDrive/Capstone/Data/munich_data'\n",
        "\n",
        "def mask_function(name):\n",
        "  mask_path = os.path.join(dataset_path, 'masks', name.replace('.jpg', '.npy'))\n",
        "  np.load(mask_path)"
      ],
      "metadata": {
        "id": "D-HgidMYtiOJ"
      },
      "execution_count": null,
      "outputs": []
    }
  ]
}